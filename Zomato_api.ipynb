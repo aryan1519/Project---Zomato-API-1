{
 "cells": [
  {
   "cell_type": "code",
   "execution_count": 3,
   "metadata": {},
   "outputs": [
    {
     "name": "stdout",
     "output_type": "stream",
     "text": [
      "73\n"
     ]
    }
   ],
   "source": [
    "import requests\n",
    "import json\n",
    "\n",
    "r = requests.get('https://developers.zomato.com/api/v2.1/cuisines',headers = {'user-key' : '7f51a93a442e47390afafde1af103eaf'},params = {'city_id':\"1\"})\n",
    "\n",
    "cuisines = r.json()[\"cuisines\"]\n",
    "\n",
    "for i in cuisines:\n",
    "    if i[\"cuisine\"][\"cuisine_name\"] == \"Mexican\":\n",
    "        print(i[\"cuisine\"][\"cuisine_id\"])\n"
   ]
  },
  {
   "cell_type": "code",
   "execution_count": 8,
   "metadata": {},
   "outputs": [
    {
     "name": "stdout",
     "output_type": "stream",
     "text": [
      "subzone 104 "
     ]
    }
   ],
   "source": [
    "import requests\n",
    "import json\n",
    "\n",
    "r = requests.get('https://developers.zomato.com/api/v2.1/locations',headers = {'user-key' : '7f51a93a442e47390afafde1af103eaf'},params = {'query':\"Connaught Place\"})\n",
    "\n",
    "loc = r.json()\n",
    "# loc\n",
    "print(loc[\"location_suggestions\"][0][\"entity_type\"],loc[\"location_suggestions\"][0][\"entity_id\"] , end= \" \")\n"
   ]
  },
  {
   "cell_type": "code",
   "execution_count": 10,
   "metadata": {},
   "outputs": [
    {
     "name": "stdout",
     "output_type": "stream",
     "text": [
      "Farzi Cafe 4.5 18233593 \n",
      "Station Bar 4.5 18851371 \n",
      "Ministry Of Beer 4.4 18418277 \n",
      "Lord Of The Drinks 4.4 312603 \n",
      "Chili's Grill & Bar 4.4 18537536 \n",
      "Local 4.3 18382360 \n",
      "Xero Degrees 4.3 18729557 \n",
      "Warehouse Cafe 4.3 301605 \n",
      "The Junkyard Cafe 4.3 313256 \n",
      "Teddy Boy 4.3 18281985 \n"
     ]
    }
   ],
   "source": [
    "import requests\n",
    "import json\n",
    "\n",
    "r = requests.get('https://developers.zomato.com/api/v2.1/search',headers = {'user-key' : '7f51a93a442e47390afafde1af103eaf'},\n",
    "                 params = {'entity_type':\"subzone\" , \"entity_id\" : 104,'cuisines' : 73,'sort' :'rating' , 'order':'desc','count' : 10})\n",
    "\n",
    "ans = r.json()\n",
    "l = ans[\"restaurants\"]\n",
    "for i in l:\n",
    "    print(i[\"restaurant\"][\"name\"],i[\"restaurant\"][\"user_rating\"][\"aggregate_rating\"],i[\"restaurant\"][\"R\"][\"res_id\"],end = \" \")\n",
    "    print()\n",
    "    "
   ]
  },
  {
   "cell_type": "code",
   "execution_count": 15,
   "metadata": {},
   "outputs": [
    {
     "name": "stdout",
     "output_type": "stream",
     "text": [
      "6\n"
     ]
    }
   ],
   "source": [
    "import requests\n",
    "import json\n",
    "\n",
    "r = requests.get('https://developers.zomato.com/api/v2.1/categories',headers = {'user-key' : '7f51a93a442e47390afafde1af103eaf'})          \n",
    "ans = r.json()\n",
    "\n",
    "ans = ans[\"categories\"]\n",
    "\n",
    "for i in ans:\n",
    "    if i[\"categories\"][\"name\"] == \"Cafes\" :\n",
    "        print(i[\"categories\"][\"id\"])\n",
    "                 \n",
    "\n",
    "                "
   ]
  },
  {
   "cell_type": "code",
   "execution_count": 41,
   "metadata": {},
   "outputs": [
    {
     "name": "stdout",
     "output_type": "stream",
     "text": [
      "Xero Degrees 4.3 18729557 \n",
      "Chaayos - Meri Wali Chai 4.2 18237315 \n",
      "The Art House Bar n Cafe 4.0 18863766 \n",
      "Cafe Coffee Day - The Square 3.5 303034 \n"
     ]
    }
   ],
   "source": [
    "import requests\n",
    "import json\n",
    "\n",
    "r = requests.get('https://developers.zomato.com/api/v2.1/search',headers = {'user-key' : '7f51a93a442e47390afafde1af103eaf'},\n",
    "                params = {\"entity_id\" : 104 , \"entity_type\" : \"subzone\" , \"cuisines\" : 73 , \"category\" : 6 ,\"sort\":\"rating\",\"order\":\"desc\",\"count\":10}) \n",
    "\n",
    "ans = r.json()[\"restaurants\"]\n",
    "for i in ans:\n",
    "    print(i[\"restaurant\"][\"name\"] ,i[\"restaurant\"][\"user_rating\"][\"aggregate_rating\"],i[\"restaurant\"][\"R\"][\"res_id\"],end = \" \")\n",
    "    print()\n",
    "\n"
   ]
  },
  {
   "cell_type": "code",
   "execution_count": 53,
   "metadata": {},
   "outputs": [
    {
     "name": "stdout",
     "output_type": "stream",
     "text": [
      "Anshita Sharma This place was cute and little and I personally liked the fries that were the best part of Xero degrees and also the ambience was too good❤️ \n",
      "Flogger An economical, pocket friendly and hygienic place in this pandemic near Odeon cinema. The staff is very welcoming and ready for your service.  I visited this outlet recently and tried their Chicken tandoori fries and Games of thrones sliders. Both were amazing. They served these amazing cute little red, green, brown coloured sliders which are my personal recommendation for everyone to try. The fries came in a jar and were topped with chunks of chicken and cheesy sauce. The other thing that I ordered was the Nutella waffle. It was loaded with Nutella and ice-cream and melted as soon as it entered my mouth. Great taste, indeed.  Their range of mocktails is  commendable as well. I tried their kiwi mint n mango mint double coolers. They were both light and refreshing. It's one of the best cafe in CP. Do visit this outlet. \n",
      "Foodify I am sure that no one can find the same way of presentation and taste that is available at Xero degrees, at any other place. Their concept of meals in beaker like jars is quite unique n innovative. I am very fond of their freaky shakes, coolers, Pastas, fries, three colour sliders and waffles. After the pandemic, they've taken care of all the hygiene requirements. They sanitize your hands at the entrance gate and use various disposable cutlery. I recently visited this place and tried their new specialities like chicken strips, chicken pizza in jar with double coolers and popcorn caramel freak shake. Totally loved the food. Amazing place to hangout. The service is prompt and staff very courteous.   MUST TRY PLACE. \n",
      "Anshul Nagpal The best thing happened to me in 2020 is peri peri fries of Xero degrees. Because they are hell irresistable🤭 \n",
      "Kamal Chauhan Their CP branch has very little sitting space available. A large group of friends wont find seat here. Also you have to wait 15-20 mins outside to get a seat. All of their items are overloaded with cheese. The food is average here. The same cheesy fries that you will get everywhere. And I don't understand the rates, everything is of the same price. I ordered Crispy Pepper Paneer Pizza: Loved it, but less for the quantity Cheesy nachos: Good Peri Peri Fries: Also good, quantity is good too. Also the staff is good here. \n"
     ]
    }
   ],
   "source": [
    "import requests\n",
    "import json\n",
    "\n",
    "r = requests.get('https://developers.zomato.com/api/v2.1/search',headers = {'user-key' : '7f51a93a442e47390afafde1af103eaf'},\n",
    "                params = {\"entity_id\" : 104 , \"entity_type\" : \"subzone\" , \"cuisines\" : 73 , \"category\" : 6 ,\"sort\":\"rating\",\"order\":\"desc\",\"count\":10}) \n",
    "\n",
    "ans = r.json()[\"restaurants\"]\n",
    "for i in ans:\n",
    "    res_id = i[\"restaurant\"][\"R\"][\"res_id\"]\n",
    "    break\n",
    "    \n",
    "# print(res_id)\n",
    "\n",
    "r = requests.get('https://developers.zomato.com/api/v2.1/reviews',headers = {'user-key' : '7f51a93a442e47390afafde1af103eaf'},\n",
    "                params = {'res_id' : res_id})\n",
    "\n",
    "\n",
    "ans = r.json()[\"user_reviews\"]\n",
    "\n",
    "for i in ans:\n",
    "    print(i[\"review\"][\"user\"][\"name\"] ,i[\"review\"][\"review_text\"],end= \" \")\n",
    "    print()\n",
    "#     print(i[\"restaurant\"][\"name\"] ,i[\"restaurant\"][\"user_rating\"][\"aggregate_rating\"],i[\"restaurant\"][\"R\"][\"res_id\"],end = \" \")\n",
    "    \n",
    "\n",
    "    \n",
    "\n"
   ]
  },
  {
   "cell_type": "code",
   "execution_count": 57,
   "metadata": {},
   "outputs": [
    {
     "data": {
      "text/plain": [
       "{'R': {'has_menu_status': {'delivery': -1, 'takeaway': -1},\n",
       "  'res_id': 18429148,\n",
       "  'is_grocery_store': False},\n",
       " 'apikey': '7f51a93a442e47390afafde1af103eaf',\n",
       " 'id': '18429148',\n",
       " 'name': 'Pa Pa Ya',\n",
       " 'url': 'https://www.zomato.com/ncr/pa-pa-ya-saket-new-delhi?utm_source=api_basic_user&utm_medium=api&utm_campaign=v2.1',\n",
       " 'location': {'address': 'A-3, Select Citywalk, District Centre, Saket, New Delhi',\n",
       "  'locality': 'Select Citywalk Mall, Saket',\n",
       "  'city': 'New Delhi',\n",
       "  'city_id': 1,\n",
       "  'latitude': '28.5285368249',\n",
       "  'longitude': '77.2184998915',\n",
       "  'zipcode': '',\n",
       "  'country_id': 1,\n",
       "  'locality_verbose': 'Select Citywalk Mall, Saket, New Delhi'},\n",
       " 'switch_to_order_menu': 0,\n",
       " 'cuisines': 'Asian, Chinese, Thai, Japanese',\n",
       " 'timings': '1pm – 11pm (Mon-Sun)',\n",
       " 'average_cost_for_two': 2500,\n",
       " 'price_range': 4,\n",
       " 'currency': 'Rs.',\n",
       " 'highlights': ['Debit Card',\n",
       "  'Lunch',\n",
       "  'Mall Parking',\n",
       "  'Cash',\n",
       "  'Credit Card',\n",
       "  'Dinner',\n",
       "  'Fullbar',\n",
       "  'Table booking recommended',\n",
       "  'Indoor Seating',\n",
       "  'Air Conditioned',\n",
       "  'Reopened',\n",
       "  'Smoking Area',\n",
       "  'Brunch'],\n",
       " 'offers': [],\n",
       " 'opentable_support': 0,\n",
       " 'is_zomato_book_res': 0,\n",
       " 'mezzo_provider': 'OTHER',\n",
       " 'is_book_form_web_view': 0,\n",
       " 'book_form_web_view_url': '',\n",
       " 'book_again_url': '',\n",
       " 'thumb': 'https://b.zmtcdn.com/data/res_imagery/18429148_RESTAURANT_433edbeec2decc62911522378eca7fa8.jpg?fit=around%7C200%3A200&crop=200%3A200%3B%2A%2C%2A',\n",
       " 'user_rating': {'aggregate_rating': '4.9',\n",
       "  'rating_text': 'Excellent',\n",
       "  'rating_color': '3F7E00',\n",
       "  'rating_obj': {'title': {'text': '4.9'},\n",
       "   'bg_color': {'type': 'lime', 'tint': '800'}},\n",
       "  'votes': 3904},\n",
       " 'all_reviews_count': 2274,\n",
       " 'photos_url': 'https://www.zomato.com/ncr/pa-pa-ya-saket-new-delhi/photos?utm_source=api_basic_user&utm_medium=api&utm_campaign=v2.1#tabtop',\n",
       " 'photo_count': 8669,\n",
       " 'menu_url': 'https://www.zomato.com/ncr/pa-pa-ya-saket-new-delhi/menu?utm_source=api_basic_user&utm_medium=api&utm_campaign=v2.1&openSwipeBox=menu&showMinimal=1#tabtop',\n",
       " 'featured_image': 'https://b.zmtcdn.com/data/res_imagery/18429148_RESTAURANT_433edbeec2decc62911522378eca7fa8.jpg',\n",
       " 'medio_provider': 1,\n",
       " 'has_online_delivery': 0,\n",
       " 'is_delivering_now': 0,\n",
       " 'store_type': '',\n",
       " 'include_bogo_offers': True,\n",
       " 'deeplink': 'zomato://restaurant/18429148',\n",
       " 'is_table_reservation_supported': 1,\n",
       " 'has_table_booking': 0,\n",
       " 'events_url': 'https://www.zomato.com/ncr/pa-pa-ya-saket-new-delhi/events#tabtop?utm_source=api_basic_user&utm_medium=api&utm_campaign=v2.1',\n",
       " 'phone_numbers': '+91 8800002881, +91 8800002882, 011 40502064',\n",
       " 'all_reviews': {'reviews': [{'review': []},\n",
       "   {'review': []},\n",
       "   {'review': []},\n",
       "   {'review': []},\n",
       "   {'review': []}]},\n",
       " 'establishment': ['Casual Dining'],\n",
       " 'establishment_types': []}"
      ]
     },
     "execution_count": 57,
     "metadata": {},
     "output_type": "execute_result"
    }
   ],
   "source": [
    "import requests\n",
    "import json\n",
    "\n",
    "r = requests.get('https://developers.zomato.com/api/v2.1/search',headers = {'user-key' : '7f51a93a442e47390afafde1af103eaf'},\n",
    "                params = {'entity_type' : 'city','entity_id' : 1,'q':'PA PA YA'})\n",
    "\n",
    "ans = r.json()\n",
    "\n",
    "ans = ans[\"restaurants\"][0][\"restaurant\"]\n",
    "\n",
    "ans"
   ]
  },
  {
   "cell_type": "code",
   "execution_count": 1,
   "metadata": {},
   "outputs": [
    {
     "data": {
      "text/plain": [
       "{'NCR': 7947, 'REST': 705}"
      ]
     },
     "execution_count": 1,
     "metadata": {},
     "output_type": "execute_result"
    }
   ],
   "source": [
    "import pandas as pd\n",
    "import numpy as np\n",
    "import matplotlib.pyplot as plt\n",
    "\n",
    "df = pd.read_csv(\"zomato.csv\",encoding = 'latin-1')\n",
    "\n",
    "df = df[df[\"Country Code\"] == 1]\n",
    "\n",
    "zom = df.copy()\n",
    "\n",
    "delhi_ncr = [\"New Delhi\" , \"Ghaziabad\",\"Noida\",\"Gurgaon\",\"Faridabad\"]\n",
    "\n",
    "count = {\"NCR\":0 , \"REST\":0}\n",
    "\n",
    "\n",
    "\n",
    "def city(city_name):\n",
    "    if city_name in delhi_ncr:\n",
    "        count[\"NCR\"]+=1\n",
    "        return \"NCR\"\n",
    "    else:\n",
    "        count[\"REST\"]+=1\n",
    "        return \"REST\"\n",
    "        \n",
    "\n",
    "zom[\"City\"] = zom[\"City\"].apply(city)\n",
    "\n",
    "\n",
    "\n",
    "# group_name = []\n",
    "# res_count = []\n",
    "\n",
    "# for key,value in count.items():\n",
    "#     group_name.append(key)\n",
    "#     res_count.append(value)\n",
    " \n",
    "# plt.style.use(\"ggplot\")\n",
    "# plt.bar(group_name,res_count)\n",
    "# plt.xticks()\n",
    "# plt.show()\n",
    "    \n"
   ]
  },
  {
   "cell_type": "markdown",
   "metadata": {},
   "source": [
    "# "
   ]
  },
  {
   "cell_type": "code",
   "execution_count": null,
   "metadata": {},
   "outputs": [],
   "source": []
  }
 ],
 "metadata": {
  "kernelspec": {
   "display_name": "Python 3",
   "language": "python",
   "name": "python3"
  },
  "language_info": {
   "codemirror_mode": {
    "name": "ipython",
    "version": 3
   },
   "file_extension": ".py",
   "mimetype": "text/x-python",
   "name": "python",
   "nbconvert_exporter": "python",
   "pygments_lexer": "ipython3",
   "version": "3.8.5"
  }
 },
 "nbformat": 4,
 "nbformat_minor": 4
}
